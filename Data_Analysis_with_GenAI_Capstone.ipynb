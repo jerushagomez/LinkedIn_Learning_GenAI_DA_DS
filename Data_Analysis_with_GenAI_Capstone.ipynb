{
  "nbformat": 4,
  "nbformat_minor": 0,
  "metadata": {
    "colab": {
      "provenance": []
    },
    "kernelspec": {
      "name": "python3",
      "display_name": "Python 3"
    },
    "language_info": {
      "name": "python"
    }
  },
  "cells": [
    {
      "cell_type": "markdown",
      "source": [
        "# ***Complete Guide to Generative AI for Data Analysis and Data Science - Capstone Project***\n",
        "\n",
        "---\n"
      ],
      "metadata": {
        "id": "_ym6e5lmKH0x"
      }
    },
    {
      "cell_type": "markdown",
      "source": [
        "**Capstone Project** <br>\n",
        "*   Assume you are an analyst within a company manufacturing electric vehicles.\n",
        "*   The company has multiple suppliers that provide multiple parts.\n",
        "*   Executives have asked you to analyze inventory management.\n",
        "*   Can the company reduce costs by using a single supplier instead of three suppliers?\n",
        "\n",
        "*Project Tasks:* <br>\n",
        "\n",
        "1.   Describe the structure of the order data provided by the inventory management team.\n",
        "2.   Clean the dataset to remove duplicate rows or rows with missing data.\n",
        "3.   Compute the average time to delivery by supplier (delivery time is the difference between when order date and expected delivery date)\n",
        "4.   Create an inventory management simulation. Randomly select demand from normal distribution (mean: 50, std: 10). Assume the holding cost is 10 dollars per unit per day. Assume the shortage cost is 50 dollars per unit per day. For each supplier, use their average days to delivery as the order lead time. For each supplier, run a 180-day simulation and calculate the inventory management costs for that supplier.\n",
        "5.   Determine which supplier has the lowest cost."
      ],
      "metadata": {
        "id": "aZXisGscKXjf"
      }
    },
    {
      "cell_type": "markdown",
      "source": [
        "*1. Describe the structure of the order data provided*"
      ],
      "metadata": {
        "id": "MRKHBcYXNMnl"
      }
    },
    {
      "cell_type": "code",
      "execution_count": 1,
      "metadata": {
        "colab": {
          "base_uri": "https://localhost:8080/"
        },
        "id": "JmJ2q0qhJ2bz",
        "outputId": "c35ba2a5-80d0-41e0-da65-46443167159c"
      },
      "outputs": [
        {
          "output_type": "stream",
          "name": "stdout",
          "text": [
            "Descriptive Statistics:\n",
            "\n",
            "       Product type   SKU       Price  Availability  Number of products sold  \\\n",
            "count           100   100  100.000000    100.000000               100.000000   \n",
            "unique            3   100         NaN           NaN                      NaN   \n",
            "top         Chassis  SKU0         NaN           NaN                      NaN   \n",
            "freq             40     1         NaN           NaN                      NaN   \n",
            "mean            NaN   NaN   49.462461     48.400000               460.990000   \n",
            "std             NaN   NaN   31.168193     30.743317               303.780074   \n",
            "min             NaN   NaN    1.699976      1.000000                 8.000000   \n",
            "25%             NaN   NaN   19.597823     22.750000               184.250000   \n",
            "50%             NaN   NaN   51.239830     43.500000               392.500000   \n",
            "75%             NaN   NaN   77.198228     75.000000               704.250000   \n",
            "max             NaN   NaN   99.171329    100.000000               996.000000   \n",
            "\n",
            "        Revenue generated Customer demographics  Stock levels  Lead times  \\\n",
            "count          100.000000                   100    100.000000  100.000000   \n",
            "unique                NaN                     4           NaN         NaN   \n",
            "top                   NaN               Unknown           NaN         NaN   \n",
            "freq                  NaN                    31           NaN         NaN   \n",
            "mean          5776.048187                   NaN     47.770000   15.960000   \n",
            "std           2732.841744                   NaN     31.369372    8.785801   \n",
            "min           1061.618523                   NaN      0.000000    1.000000   \n",
            "25%           2812.847151                   NaN     16.750000    8.000000   \n",
            "50%           6006.352023                   NaN     47.500000   17.000000   \n",
            "75%           8253.976920                   NaN     73.000000   24.000000   \n",
            "max           9866.465458                   NaN    100.000000   30.000000   \n",
            "\n",
            "        Order quantities  ...  Production volumes Manufacturing lead time  \\\n",
            "count         100.000000  ...          100.000000               100.00000   \n",
            "unique               NaN  ...                 NaN                     NaN   \n",
            "top                  NaN  ...                 NaN                     NaN   \n",
            "freq                 NaN  ...                 NaN                     NaN   \n",
            "mean           49.220000  ...          567.840000                14.77000   \n",
            "std            26.784429  ...          263.046861                 8.91243   \n",
            "min             1.000000  ...          104.000000                 1.00000   \n",
            "25%            26.000000  ...          352.000000                 7.00000   \n",
            "50%            52.000000  ...          568.500000                14.00000   \n",
            "75%            71.250000  ...          797.000000                23.00000   \n",
            "max            96.000000  ...          985.000000                30.00000   \n",
            "\n",
            "        Manufacturing costs Inspection results Defect rates  \\\n",
            "count            100.000000                100   100.000000   \n",
            "unique                  NaN                  3          NaN   \n",
            "top                     NaN            Pending          NaN   \n",
            "freq                    NaN                 41          NaN   \n",
            "mean              47.266693                NaN     2.277158   \n",
            "std               28.982841                NaN     1.461366   \n",
            "min                1.085069                NaN     0.018608   \n",
            "25%               22.983299                NaN     1.009650   \n",
            "50%               45.905622                NaN     2.141863   \n",
            "75%               68.621026                NaN     3.563995   \n",
            "max               99.466109                NaN     4.939255   \n",
            "\n",
            "        Transportation modes   Routes       Costs  Order Date  \\\n",
            "count                    100      100  100.000000         100   \n",
            "unique                     4        3         NaN          75   \n",
            "top                     Road  Route A         NaN  2025-06-17   \n",
            "freq                      29       43         NaN           3   \n",
            "mean                     NaN      NaN  529.245782         NaN   \n",
            "std                      NaN      NaN  258.301696         NaN   \n",
            "min                      NaN      NaN  103.916248         NaN   \n",
            "25%                      NaN      NaN  318.778455         NaN   \n",
            "50%                      NaN      NaN  520.430444         NaN   \n",
            "75%                      NaN      NaN  763.078231         NaN   \n",
            "max                      NaN      NaN  997.413450         NaN   \n",
            "\n",
            "       Expected Delivery Date  \n",
            "count                     100  \n",
            "unique                     82  \n",
            "top                2025-02-23  \n",
            "freq                        4  \n",
            "mean                      NaN  \n",
            "std                       NaN  \n",
            "min                       NaN  \n",
            "25%                       NaN  \n",
            "50%                       NaN  \n",
            "75%                       NaN  \n",
            "max                       NaN  \n",
            "\n",
            "[11 rows x 26 columns]\n",
            "\n",
            "Missing Values Summary:\n",
            "\n",
            "No missing values found.\n"
          ]
        }
      ],
      "source": [
        "import pandas as pd\n",
        "\n",
        "# Load the dataset\n",
        "file_path = '/content/capstone_dataset.csv'  # replace with your CSV file path\n",
        "df = pd.read_csv(file_path)\n",
        "\n",
        "# Descriptive statistics\n",
        "print(\"Descriptive Statistics:\\n\")\n",
        "print(df.describe(include='all'))  # include='all' covers numeric & non-numeric columns\n",
        "\n",
        "# Check for missing values\n",
        "print(\"\\nMissing Values Summary:\\n\")\n",
        "missing = df.isnull().sum()\n",
        "print(missing[missing > 0] if missing.any() else \"No missing values found.\")"
      ]
    },
    {
      "cell_type": "markdown",
      "source": [
        "*2. Clean the dataset to remove duplicate rows or rows with missing data.*"
      ],
      "metadata": {
        "id": "v6Tvry3EOSWL"
      }
    },
    {
      "cell_type": "code",
      "source": [
        "# Check for duplicate rows\n",
        "duplicates = df.duplicated()\n",
        "num_duplicates = duplicates.sum()\n",
        "print(f\"\\nNumber of duplicate rows: {num_duplicates}\")\n",
        "\n",
        "# Remove duplicate rows if any\n",
        "if num_duplicates > 0:\n",
        "    df = df.drop_duplicates()\n",
        "    print(\"Duplicate rows removed.\")\n",
        "else:\n",
        "    print(\"No duplicate rows found.\")"
      ],
      "metadata": {
        "colab": {
          "base_uri": "https://localhost:8080/"
        },
        "id": "Dg0dyGexO9Yg",
        "outputId": "ac289978-162c-4439-e2bb-196aecfb9498"
      },
      "execution_count": 2,
      "outputs": [
        {
          "output_type": "stream",
          "name": "stdout",
          "text": [
            "\n",
            "Number of duplicate rows: 0\n",
            "No duplicate rows found.\n"
          ]
        }
      ]
    },
    {
      "cell_type": "markdown",
      "source": [
        "*3. Compute the average time to delivery by supplier (delivery time is the difference between when order date and expected delivery date)*"
      ],
      "metadata": {
        "id": "HJeWNu8bQ6hs"
      }
    },
    {
      "cell_type": "code",
      "source": [
        "# Ensure the date columns are in datetime format\n",
        "df['Order Date'] = pd.to_datetime(df['Order Date'])\n",
        "df['Expected Delivery Date'] = pd.to_datetime(df['Expected Delivery Date'])\n",
        "\n",
        "# Add new column: lead time to delivery (in days)\n",
        "df['lead_time_to_del'] = (df['Expected Delivery Date'] - df['Order Date']).dt.days\n",
        "\n",
        "# Preview\n",
        "print(df[['Supplier name', 'Order Date', 'Expected Delivery Date', 'lead_time_to_del']].head())\n",
        "\n",
        "# Save updated dataset to a new CSV\n",
        "output_file = 'updated_dataset_with_lead_time.csv'\n",
        "df.to_csv(output_file, index=False)\n",
        "\n",
        "print(f\"\\nUpdated dataset saved to {output_file}\")"
      ],
      "metadata": {
        "colab": {
          "base_uri": "https://localhost:8080/"
        },
        "id": "v_iFsadfQhFA",
        "outputId": "381b89a7-0584-4f4e-dd97-9ed488c754dc"
      },
      "execution_count": 8,
      "outputs": [
        {
          "output_type": "stream",
          "name": "stdout",
          "text": [
            "  Supplier name Order Date Expected Delivery Date  lead_time_to_del\n",
            "0    Supplier 3 2025-02-11             2025-02-23                12\n",
            "1    Supplier 3 2025-06-14             2025-06-26                12\n",
            "2    Supplier 1 2025-01-09             2025-01-18                 9\n",
            "3    Supplier 5 2025-07-31             2025-08-15                15\n",
            "4    Supplier 1 2025-05-01             2025-05-15                14\n",
            "\n",
            "Updated dataset saved to updated_dataset_with_lead_time.csv\n"
          ]
        }
      ]
    },
    {
      "cell_type": "code",
      "source": [
        "# Define function to calculate average lead time per supplier\n",
        "def average_lead_time_per_supplier(dataframe):\n",
        "    \"\"\"\n",
        "    Returns a DataFrame with average lead time to delivery per supplier.\n",
        "    \"\"\"\n",
        "    return dataframe.pivot_table(\n",
        "        index='Supplier name',\n",
        "        values='lead_time_to_del',\n",
        "        aggfunc='mean'\n",
        "    ).reset_index()\n",
        "\n",
        "# Call the function\n",
        "avg_lead_times = average_lead_time_per_supplier(df)\n",
        "\n",
        "# Display results\n",
        "print(\"Average lead time per supplier:\\n\")\n",
        "print(avg_lead_times)"
      ],
      "metadata": {
        "colab": {
          "base_uri": "https://localhost:8080/"
        },
        "id": "ydkEXA6e1Sfo",
        "outputId": "69e6ff15-4c12-4fd8-c6bc-7ddb2079e8e4"
      },
      "execution_count": 9,
      "outputs": [
        {
          "output_type": "stream",
          "name": "stdout",
          "text": [
            "Average lead time per supplier:\n",
            "\n",
            "  Supplier name  lead_time_to_del\n",
            "0    Supplier 1         10.518519\n",
            "1    Supplier 2          9.272727\n",
            "2    Supplier 3         10.600000\n",
            "3    Supplier 4          9.444444\n",
            "4    Supplier 5         10.888889\n"
          ]
        }
      ]
    },
    {
      "cell_type": "markdown",
      "source": [
        "*4. Create an inventory management simulation. Randomly select demand from normal distribution (mean: 50, std: 10). Assume the holding cost is 10 dollars per unit per day. Assume the shortage cost is 50 dollars per unit per day.5. For each supplier, use their average days to delivery as the order lead time. For each supplier, run a 180-day simulation and calculate the inventory management costs for that supplier. [MONTE CARLO SIMULATION]*"
      ],
      "metadata": {
        "id": "aZ2v0yMzx1tS"
      }
    },
    {
      "cell_type": "code",
      "source": [
        "import numpy as np\n",
        "\n",
        "# -----------------------------\n",
        "# Supplier lead times (from your table)\n",
        "# -----------------------------\n",
        "suppliers = pd.DataFrame({\n",
        "    'Supplier name': ['Supplier 1', 'Supplier 2', 'Supplier 3', 'Supplier 4', 'Supplier 5'],\n",
        "    'lead_time_to_del': [10.518519, 9.272727, 10.6, 9.444444, 10.888889]\n",
        "})\n",
        "\n",
        "# -----------------------------\n",
        "# Simulation parameters\n",
        "# -----------------------------\n",
        "np.random.seed(42)  # reproducibility\n",
        "days_to_simulate = 180\n",
        "simulations = 50\n",
        "mean_demand = 50\n",
        "std_demand = 10\n",
        "holding_cost_per_unit = 10\n",
        "shortage_cost_per_unit = 50\n",
        "initial_inventory = 100\n",
        "\n",
        "# -----------------------------\n",
        "# Monte Carlo Simulation Function\n",
        "# -----------------------------\n",
        "def run_inventory_simulation(lead_time, days=days_to_simulate, sims=simulations):\n",
        "    \"\"\"\n",
        "    Run inventory simulation for a given supplier lead time.\n",
        "    Returns average holding, shortage, and total costs across simulations.\n",
        "    \"\"\"\n",
        "    results = []\n",
        "\n",
        "    for sim in range(sims):\n",
        "        inventory = initial_inventory\n",
        "        total_holding_cost = 0\n",
        "        total_shortage_cost = 0\n",
        "\n",
        "        for day in range(1, days + 1):\n",
        "            # Random daily demand\n",
        "            demand = max(int(np.random.normal(mean_demand, std_demand)), 0)\n",
        "\n",
        "            # Satisfy demand\n",
        "            if inventory >= demand:\n",
        "                inventory -= demand\n",
        "                holding_cost = inventory * holding_cost_per_unit\n",
        "                shortage_cost = 0\n",
        "            else:\n",
        "                shortage = demand - inventory\n",
        "                inventory = 0\n",
        "                holding_cost = 0\n",
        "                shortage_cost = shortage * shortage_cost_per_unit\n",
        "\n",
        "            total_holding_cost += holding_cost\n",
        "            total_shortage_cost += shortage_cost\n",
        "\n",
        "            # Replenishment every \"lead_time\" days (rounded)\n",
        "            if day % int(round(lead_time)) == 0:\n",
        "                inventory += int(mean_demand * lead_time)  # restock enough for avg demand during lead time\n",
        "\n",
        "        total_cost = total_holding_cost + total_shortage_cost\n",
        "        results.append(total_cost)\n",
        "\n",
        "    return {\n",
        "        'Average Cost': np.mean(results),\n",
        "        'Min Cost': np.min(results),\n",
        "        'Max Cost': np.max(results)\n",
        "    }\n",
        "\n",
        "# -----------------------------\n",
        "# Run simulation for all suppliers\n",
        "# -----------------------------\n",
        "supplier_results = []\n",
        "\n",
        "for _, row in suppliers.iterrows():\n",
        "    supplier = row['Supplier name']\n",
        "    lead_time = row['lead_time_to_del']\n",
        "\n",
        "    sim_result = run_inventory_simulation(lead_time)\n",
        "    sim_result['Supplier'] = supplier\n",
        "    sim_result['Lead Time (days)'] = lead_time\n",
        "    supplier_results.append(sim_result)\n",
        "\n",
        "# Convert results to DataFrame\n",
        "df_results = pd.DataFrame(supplier_results)\n",
        "\n",
        "# -----------------------------\n",
        "# Display results\n",
        "# -----------------------------\n",
        "print(\"\\nMonte Carlo Simulation Results (180 days, 50 runs):\\n\")\n",
        "print(df_results[['Supplier', 'Lead Time (days)', 'Average Cost', 'Min Cost', 'Max Cost']])"
      ],
      "metadata": {
        "colab": {
          "base_uri": "https://localhost:8080/"
        },
        "id": "WdtJcgoex4uM",
        "outputId": "ea7f4822-94be-4158-a368-d1ce096c30cd"
      },
      "execution_count": 10,
      "outputs": [
        {
          "output_type": "stream",
          "name": "stdout",
          "text": [
            "\n",
            "Monte Carlo Simulation Results (180 days, 50 runs):\n",
            "\n",
            "     Supplier  Lead Time (days)  Average Cost  Min Cost  Max Cost\n",
            "0  Supplier 1         10.518519      452384.8    428910    536620\n",
            "1  Supplier 2          9.272727      671188.4    476950    879730\n",
            "2  Supplier 3         10.600000      463061.2    436830    562560\n",
            "3  Supplier 4          9.444444      847358.2    628820   1113660\n",
            "4  Supplier 5         10.888889      520459.0    455890    676620\n"
          ]
        }
      ]
    },
    {
      "cell_type": "markdown",
      "source": [
        "*6.   Determine which supplier has the lowest cost.*"
      ],
      "metadata": {
        "id": "lsgAHJTMyunt"
      }
    },
    {
      "cell_type": "code",
      "source": [
        "# Find supplier with the lowest average cost\n",
        "lowest_cost_supplier = df_results.loc[df_results['Average Cost'].idxmin()]\n",
        "\n",
        "print(\"\\nSupplier with the lowest inventory management cost:\\n\")\n",
        "print(lowest_cost_supplier)"
      ],
      "metadata": {
        "colab": {
          "base_uri": "https://localhost:8080/"
        },
        "id": "n0KmbWvJyt9k",
        "outputId": "d2e26f80-44b9-4a0d-c65b-e77a97c2f1cb"
      },
      "execution_count": 11,
      "outputs": [
        {
          "output_type": "stream",
          "name": "stdout",
          "text": [
            "\n",
            "Supplier with the lowest inventory management cost:\n",
            "\n",
            "Average Cost          452384.8\n",
            "Min Cost                428910\n",
            "Max Cost                536620\n",
            "Supplier            Supplier 1\n",
            "Lead Time (days)     10.518519\n",
            "Name: 0, dtype: object\n"
          ]
        }
      ]
    }
  ]
}