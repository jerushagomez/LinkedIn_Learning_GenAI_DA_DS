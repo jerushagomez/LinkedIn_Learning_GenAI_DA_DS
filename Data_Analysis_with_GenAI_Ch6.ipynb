{
  "nbformat": 4,
  "nbformat_minor": 0,
  "metadata": {
    "colab": {
      "provenance": []
    },
    "kernelspec": {
      "name": "python3",
      "display_name": "Python 3"
    },
    "language_info": {
      "name": "python"
    }
  },
  "cells": [
    {
      "cell_type": "markdown",
      "source": [
        "# ***Complete Guide to Generative AI for Data Analysis and Data Science***\n",
        "\n",
        "---\n"
      ],
      "metadata": {
        "id": "tkjXs9Q3H6Bx"
      }
    },
    {
      "cell_type": "markdown",
      "source": [
        "### **Chapter 6:** *Sampling of Data*"
      ],
      "metadata": {
        "id": "r_zFfyKEH7xX"
      }
    },
    {
      "cell_type": "markdown",
      "source": [
        "a) Sampling of Data"
      ],
      "metadata": {
        "id": "kNM8k3ucIhEJ"
      }
    },
    {
      "cell_type": "code",
      "execution_count": 2,
      "metadata": {
        "colab": {
          "base_uri": "https://localhost:8080/",
          "height": 0
        },
        "id": "v39W20G9HasH",
        "outputId": "2036c2b4-0f0f-4415-c95a-1e0345bfdc7b"
      },
      "outputs": [
        {
          "output_type": "stream",
          "name": "stdout",
          "text": [
            "Random Sample of 100 rows from '/content/06_02_healthcare_dataset.csv':\n",
            "\n",
            "     Type of Admission  Admission_Deposit\n",
            "1501            Trauma               4052\n",
            "2586            Urgent               4294\n",
            "2653         Emergency               4784\n",
            "1055            Trauma               6580\n",
            "705             Urgent               5270\n",
            "...                ...                ...\n",
            "4740            Urgent               5534\n",
            "2940            Trauma               4988\n",
            "3456            Trauma               4500\n",
            "373             Trauma               7207\n",
            "79           Emergency               4385\n",
            "\n",
            "[100 rows x 2 columns]\n"
          ]
        }
      ],
      "source": [
        "import pandas as pd\n",
        "\n",
        "# ==== CONFIGURATION ====\n",
        "file_name = '/content/06_02_healthcare_dataset.csv'\n",
        "num_rows = 100                # Number of rows you want to sample\n",
        "output_file = 'sampled_output.csv'\n",
        "\n",
        "# ==== READ AND SAMPLE ====\n",
        "try:\n",
        "    df = pd.read_csv(file_name)\n",
        "\n",
        "    if num_rows > len(df):\n",
        "        print(f\"Requested {num_rows} rows, but file only has {len(df)} rows.\")\n",
        "    else:\n",
        "        sampled_df = df.sample(n=num_rows, random_state=42)  # random_state for reproducibility\n",
        "        # Save the sampled data\n",
        "        sampled_df.to_csv(output_file, index=False)\n",
        "        print(f\"Random Sample of {num_rows} rows from '{file_name}':\\n\")\n",
        "        print(sampled_df)\n",
        "\n",
        "except FileNotFoundError:\n",
        "    print(f\"File '{file_name}' not found.\")\n",
        "except Exception as e:\n",
        "    print(f\"An error occurred: {e}\")"
      ]
    },
    {
      "cell_type": "markdown",
      "source": [
        "b) Comparing the Population and the Sample Statistics"
      ],
      "metadata": {
        "id": "dMU7ikiEJeVw"
      }
    },
    {
      "cell_type": "code",
      "source": [
        "import pandas as pd\n",
        "\n",
        "# ==== CONFIGURATION ====\n",
        "input_file = '/content/06_02_healthcare_dataset.csv'\n",
        "num_rows = 1000                    # Number of rows to sample\n",
        "output_file = 'sampled_output_updated.csv'      # Output CSV file\n",
        "target_column = 'Admission_Deposit'     # Column to compute stats on\n",
        "\n",
        "# ==== READ, SAMPLE, SAVE, AND STATS ====\n",
        "try:\n",
        "    df = pd.read_csv(input_file)\n",
        "\n",
        "    if target_column not in df.columns:\n",
        "        print(f\"Column '{target_column}' not found in the input file.\")\n",
        "    elif num_rows > len(df):\n",
        "        print(f\"Requested {num_rows} rows, but file only has {len(df)} rows.\")\n",
        "    else:\n",
        "        # Sample and save\n",
        "        sampled_df = df.sample(n=num_rows, random_state=42)\n",
        "        sampled_df.to_csv(output_file, index=False)\n",
        "\n",
        "        # Compute stats\n",
        "        source_mean = df[target_column].mean()\n",
        "        source_std = df[target_column].std()\n",
        "        sample_mean = sampled_df[target_column].mean()\n",
        "        sample_std = sampled_df[target_column].std()\n",
        "\n",
        "        # Display results\n",
        "        print(f\"Stats for '{target_column}':\")\n",
        "        print(f\"  Source File   → Mean: {source_mean:.2f}, Std Dev: {source_std:.2f}\")\n",
        "        print(f\"  Sampled File  → Mean: {sample_mean:.2f}, Std Dev: {sample_std:.2f}\")\n",
        "        print(f\"Sample saved to '{output_file}'.\")\n",
        "\n",
        "except FileNotFoundError:\n",
        "    print(f\"File '{input_file}' not found.\")\n",
        "except Exception as e:\n",
        "    print(f\"An error occurred: {e}\")"
      ],
      "metadata": {
        "colab": {
          "base_uri": "https://localhost:8080/",
          "height": 0
        },
        "id": "FPXOmKenJfIq",
        "outputId": "6acd3995-7e05-45e7-81cf-3de09ca4d534"
      },
      "execution_count": 3,
      "outputs": [
        {
          "output_type": "stream",
          "name": "stdout",
          "text": [
            "Stats for 'Admission_Deposit':\n",
            "  Source File   → Mean: 5135.85, Std Dev: 970.72\n",
            "  Sampled File  → Mean: 5169.51, Std Dev: 962.73\n",
            "Sample saved to 'sampled_output_updated.csv'.\n"
          ]
        }
      ]
    },
    {
      "cell_type": "markdown",
      "source": [
        "**Challenge:**\n",
        "\n",
        "*   Create a sensor dataset\n",
        "*   Randomly sample 100 rows from the Sensor data\n",
        "*   Save the sample to a file\n",
        "\n",
        "[Create a dataset of sensor data. Each row should have a sensor_id, a timestamp, a temperature in celcius, relative humidity, and pressure in millibars. There should be 10 different sensors and each sensor should have 1 row per minute starting at 01:00 UTC on July 1 2025 and ending at 02:00 UTC on July 1 2025]\n",
        "\n"
      ],
      "metadata": {
        "id": "Dk_fJv5YJj9G"
      }
    },
    {
      "cell_type": "code",
      "source": [
        "import numpy as np\n",
        "\n",
        "# Parameters\n",
        "start_time = pd.Timestamp(\"2025-07-01 01:00:00\", tz=\"UTC\")\n",
        "end_time = pd.Timestamp(\"2025-07-01 02:00:00\", tz=\"UTC\")\n",
        "timestamps = pd.date_range(start=start_time, end=end_time, freq=\"1min\")\n",
        "\n",
        "sensor_ids = [f\"sensor_{i}\" for i in range(1, 11)]\n",
        "\n",
        "# Generate rows\n",
        "data = []\n",
        "\n",
        "for sensor_id in sensor_ids:\n",
        "    for timestamp in timestamps:\n",
        "        temperature = np.round(np.random.normal(loc=22, scale=2), 2)       # Around 22°C\n",
        "        humidity = np.round(np.random.uniform(low=40, high=70), 2)         # 40%–70%\n",
        "        pressure = np.round(np.random.normal(loc=1013, scale=5), 2)        # Around 1013 mbar\n",
        "        data.append({\n",
        "            \"sensor_id\": sensor_id,\n",
        "            \"timestamp\": timestamp,\n",
        "            \"temperature_C\": temperature,\n",
        "            \"humidity_percent\": humidity,\n",
        "            \"pressure_mbar\": pressure\n",
        "        })\n",
        "\n",
        "# Create DataFrame\n",
        "df = pd.DataFrame(data)\n",
        "\n",
        "# Preview\n",
        "print(df.head())\n",
        "\n",
        "# Optional: Save to CSV\n",
        "df.to_csv(\"sensor_data.csv\", index=False)\n",
        "print(\"Sensor data saved to 'sensor_data.csv'\")"
      ],
      "metadata": {
        "colab": {
          "base_uri": "https://localhost:8080/",
          "height": 0
        },
        "id": "P_1J7C_FJk5Y",
        "outputId": "1412cf55-1647-414f-beef-868ba7037662"
      },
      "execution_count": 5,
      "outputs": [
        {
          "output_type": "stream",
          "name": "stdout",
          "text": [
            "  sensor_id                 timestamp  temperature_C  humidity_percent  \\\n",
            "0  sensor_1 2025-07-01 01:00:00+00:00          23.13             53.64   \n",
            "1  sensor_1 2025-07-01 01:01:00+00:00          21.96             51.01   \n",
            "2  sensor_1 2025-07-01 01:02:00+00:00          25.80             46.29   \n",
            "3  sensor_1 2025-07-01 01:03:00+00:00          22.56             53.15   \n",
            "4  sensor_1 2025-07-01 01:04:00+00:00          20.85             52.35   \n",
            "\n",
            "   pressure_mbar  \n",
            "0        1014.74  \n",
            "1        1012.26  \n",
            "2        1010.93  \n",
            "3        1004.16  \n",
            "4        1012.14  \n",
            "Sensor data saved to 'sensor_data.csv'\n"
          ]
        }
      ]
    },
    {
      "cell_type": "code",
      "source": [
        "sensor_ids = [f\"sensor_{i}\" for i in range(1, 11)]\n",
        "sensor_ids"
      ],
      "metadata": {
        "colab": {
          "base_uri": "https://localhost:8080/",
          "height": 0
        },
        "id": "uZp7BZYFJ08o",
        "outputId": "749c6ba2-aa8a-426e-cbc8-c5c10275e1d5"
      },
      "execution_count": 6,
      "outputs": [
        {
          "output_type": "execute_result",
          "data": {
            "text/plain": [
              "['sensor_1',\n",
              " 'sensor_2',\n",
              " 'sensor_3',\n",
              " 'sensor_4',\n",
              " 'sensor_5',\n",
              " 'sensor_6',\n",
              " 'sensor_7',\n",
              " 'sensor_8',\n",
              " 'sensor_9',\n",
              " 'sensor_10']"
            ]
          },
          "metadata": {},
          "execution_count": 6
        }
      ]
    },
    {
      "cell_type": "code",
      "source": [
        "\n",
        "# --- Configuration ---\n",
        "source_file = \"/content/sensor_data.csv\"       # Input file name\n",
        "sample_size = 100                     # Number of rows to sample\n",
        "output_file = \"sensor_sample.csv\"     # Output file name\n",
        "\n",
        "# --- Load the CSV ---\n",
        "df = pd.read_csv(source_file)\n",
        "\n",
        "# --- Randomly sample the rows ---\n",
        "sample_df = df.sample(n=sample_size, random_state=32)\n",
        "\n",
        "# --- Save the sample to a new CSV ---\n",
        "sample_df.to_csv(output_file, index=False)\n",
        "\n",
        "print(f\"{sample_size} rows sampled from '{source_file}' and saved to '{output_file}'.\")"
      ],
      "metadata": {
        "colab": {
          "base_uri": "https://localhost:8080/",
          "height": 0
        },
        "id": "bj94MGqWJ4sE",
        "outputId": "217e2a77-18a2-4beb-c11e-3d0d9f2608d2"
      },
      "execution_count": 7,
      "outputs": [
        {
          "output_type": "stream",
          "name": "stdout",
          "text": [
            "100 rows sampled from '/content/sensor_data.csv' and saved to 'sensor_sample.csv'.\n"
          ]
        }
      ]
    }
  ]
}