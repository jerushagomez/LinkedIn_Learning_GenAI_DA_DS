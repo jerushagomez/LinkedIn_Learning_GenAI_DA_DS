{
  "nbformat": 4,
  "nbformat_minor": 0,
  "metadata": {
    "colab": {
      "provenance": []
    },
    "kernelspec": {
      "name": "python3",
      "display_name": "Python 3"
    },
    "language_info": {
      "name": "python"
    }
  },
  "cells": [
    {
      "cell_type": "markdown",
      "source": [
        "# ***Complete Guide to Generative AI for Data Analysis and Data Science***\n",
        "\n",
        "---"
      ],
      "metadata": {
        "id": "JkIrL3d_SYeU"
      }
    },
    {
      "cell_type": "markdown",
      "source": [
        "### **Chapter 10:** *Analyzing Data in Files*"
      ],
      "metadata": {
        "id": "mNuZVEWsSbJs"
      }
    },
    {
      "cell_type": "markdown",
      "source": [
        "a) Reading JSON Files"
      ],
      "metadata": {
        "id": "byHbE-_MSYWm"
      }
    },
    {
      "cell_type": "code",
      "execution_count": 1,
      "metadata": {
        "colab": {
          "base_uri": "https://localhost:8080/"
        },
        "collapsed": true,
        "id": "szrKp4_BSVFh",
        "outputId": "0088476e-959d-49d8-8dba-e2ff4490449d"
      },
      "outputs": [
        {
          "output_type": "stream",
          "name": "stdout",
          "text": [
            "                       productName productCategory productID  \\\n",
            "0                   myPhone 13 Pro     electronics   ELEC001   \n",
            "1                     Acme QLED TV     electronics   ELEC002   \n",
            "2  Ace Noise-Cancelling Headphones     electronics   ELEC003   \n",
            "3                Cast Iron Skillet      housewares  HOUSE001   \n",
            "4                   Vacuum Cleaner      housewares  HOUSE002   \n",
            "\n",
            "  categoryAttributes.displaySize categoryAttributes.cameraResolution  \\\n",
            "0                     6.1 inches                                12MP   \n",
            "1                            NaN                                 NaN   \n",
            "2                            NaN                                 NaN   \n",
            "3                            NaN                                 NaN   \n",
            "4                            NaN                                 NaN   \n",
            "\n",
            "  categoryAttributes.storage categoryAttributes.screenSize  \\\n",
            "0                      256GB                           NaN   \n",
            "1                        NaN                     65 inches   \n",
            "2                        NaN                           NaN   \n",
            "3                        NaN                           NaN   \n",
            "4                        NaN                           NaN   \n",
            "\n",
            "  categoryAttributes.resolution categoryAttributes.smartTV  \\\n",
            "0                           NaN                        NaN   \n",
            "1                            4K                       True   \n",
            "2                           NaN                        NaN   \n",
            "3                           NaN                        NaN   \n",
            "4                           NaN                        NaN   \n",
            "\n",
            "  categoryAttributes.wirelessTechnology  ...  \\\n",
            "0                                   NaN  ...   \n",
            "1                                   NaN  ...   \n",
            "2                         Bluetooth 5.0  ...   \n",
            "3                                   NaN  ...   \n",
            "4                                   NaN  ...   \n",
            "\n",
            "  categoryAttributes.numberOfKnives categoryAttributes.bladeType  \\\n",
            "0                               NaN                          NaN   \n",
            "1                               NaN                          NaN   \n",
            "2                               NaN                          NaN   \n",
            "3                               NaN                          NaN   \n",
            "4                               NaN                          NaN   \n",
            "\n",
            "  categoryAttributes.knifeBlock categoryAttributes.size  \\\n",
            "0                           NaN                     NaN   \n",
            "1                           NaN                     NaN   \n",
            "2                           NaN                     NaN   \n",
            "3                           NaN                     NaN   \n",
            "4                           NaN                     NaN   \n",
            "\n",
            "  categoryAttributes.fit categoryAttributes.color  \\\n",
            "0                    NaN                      NaN   \n",
            "1                    NaN                      NaN   \n",
            "2                    NaN                      NaN   \n",
            "3                    NaN                      NaN   \n",
            "4                    NaN                      NaN   \n",
            "\n",
            "  categoryAttributes.sleeveLength categoryAttributes.gender  \\\n",
            "0                             NaN                       NaN   \n",
            "1                             NaN                       NaN   \n",
            "2                             NaN                       NaN   \n",
            "3                             NaN                       NaN   \n",
            "4                             NaN                       NaN   \n",
            "\n",
            "   categoryAttributes.shoeType categoryAttributes.style  \n",
            "0                          NaN                      NaN  \n",
            "1                          NaN                      NaN  \n",
            "2                          NaN                      NaN  \n",
            "3                          NaN                      NaN  \n",
            "4                          NaN                      NaN  \n",
            "\n",
            "[5 rows x 28 columns]\n"
          ]
        }
      ],
      "source": [
        "import json\n",
        "import pandas as pd\n",
        "\n",
        "json_file_path = '/content/products.json'\n",
        "# Load raw JSON first\n",
        "with open(json_file_path, 'r') as f:\n",
        "    data = json.load(f)\n",
        "\n",
        "# Normalize JSON structure - required for nested structures\n",
        "df = pd.json_normalize(data)\n",
        "\n",
        "print(df.head())"
      ]
    },
    {
      "cell_type": "code",
      "source": [
        "#Summary Statistics\n",
        "print(\"\\nSummary Statistics:\")\n",
        "print(df.describe(include='all'))"
      ],
      "metadata": {
        "colab": {
          "base_uri": "https://localhost:8080/"
        },
        "collapsed": true,
        "id": "mikAh6b5TRj3",
        "outputId": "9a240b7e-d70d-4f1f-fdd3-6ae4a1784d7a"
      },
      "execution_count": 2,
      "outputs": [
        {
          "output_type": "stream",
          "name": "stdout",
          "text": [
            "\n",
            "Summary Statistics:\n",
            "           productName productCategory productID  \\\n",
            "count               10              10        10   \n",
            "unique              10               3        10   \n",
            "top     myPhone 13 Pro        clothing   ELEC001   \n",
            "freq                 1               4         1   \n",
            "mean               NaN             NaN       NaN   \n",
            "std                NaN             NaN       NaN   \n",
            "min                NaN             NaN       NaN   \n",
            "25%                NaN             NaN       NaN   \n",
            "50%                NaN             NaN       NaN   \n",
            "75%                NaN             NaN       NaN   \n",
            "max                NaN             NaN       NaN   \n",
            "\n",
            "       categoryAttributes.displaySize categoryAttributes.cameraResolution  \\\n",
            "count                               1                                   1   \n",
            "unique                              1                                   1   \n",
            "top                        6.1 inches                                12MP   \n",
            "freq                                1                                   1   \n",
            "mean                              NaN                                 NaN   \n",
            "std                               NaN                                 NaN   \n",
            "min                               NaN                                 NaN   \n",
            "25%                               NaN                                 NaN   \n",
            "50%                               NaN                                 NaN   \n",
            "75%                               NaN                                 NaN   \n",
            "max                               NaN                                 NaN   \n",
            "\n",
            "       categoryAttributes.storage categoryAttributes.screenSize  \\\n",
            "count                           1                             1   \n",
            "unique                          1                             1   \n",
            "top                         256GB                     65 inches   \n",
            "freq                            1                             1   \n",
            "mean                          NaN                           NaN   \n",
            "std                           NaN                           NaN   \n",
            "min                           NaN                           NaN   \n",
            "25%                           NaN                           NaN   \n",
            "50%                           NaN                           NaN   \n",
            "75%                           NaN                           NaN   \n",
            "max                           NaN                           NaN   \n",
            "\n",
            "       categoryAttributes.resolution categoryAttributes.smartTV  \\\n",
            "count                              1                          1   \n",
            "unique                             1                          1   \n",
            "top                               4K                       True   \n",
            "freq                               1                          1   \n",
            "mean                             NaN                        NaN   \n",
            "std                              NaN                        NaN   \n",
            "min                              NaN                        NaN   \n",
            "25%                              NaN                        NaN   \n",
            "50%                              NaN                        NaN   \n",
            "75%                              NaN                        NaN   \n",
            "max                              NaN                        NaN   \n",
            "\n",
            "       categoryAttributes.wirelessTechnology  ...  \\\n",
            "count                                      1  ...   \n",
            "unique                                     1  ...   \n",
            "top                            Bluetooth 5.0  ...   \n",
            "freq                                       1  ...   \n",
            "mean                                     NaN  ...   \n",
            "std                                      NaN  ...   \n",
            "min                                      NaN  ...   \n",
            "25%                                      NaN  ...   \n",
            "50%                                      NaN  ...   \n",
            "75%                                      NaN  ...   \n",
            "max                                      NaN  ...   \n",
            "\n",
            "       categoryAttributes.numberOfKnives categoryAttributes.bladeType  \\\n",
            "count                                1.0                            1   \n",
            "unique                               NaN                            1   \n",
            "top                                  NaN              Stainless Steel   \n",
            "freq                                 NaN                            1   \n",
            "mean                                 6.0                          NaN   \n",
            "std                                  NaN                          NaN   \n",
            "min                                  6.0                          NaN   \n",
            "25%                                  6.0                          NaN   \n",
            "50%                                  6.0                          NaN   \n",
            "75%                                  6.0                          NaN   \n",
            "max                                  6.0                          NaN   \n",
            "\n",
            "       categoryAttributes.knifeBlock categoryAttributes.size  \\\n",
            "count                              1                       4   \n",
            "unique                             1                       4   \n",
            "top                             True                   32x32   \n",
            "freq                               1                       1   \n",
            "mean                             NaN                     NaN   \n",
            "std                              NaN                     NaN   \n",
            "min                              NaN                     NaN   \n",
            "25%                              NaN                     NaN   \n",
            "50%                              NaN                     NaN   \n",
            "75%                              NaN                     NaN   \n",
            "max                              NaN                     NaN   \n",
            "\n",
            "       categoryAttributes.fit categoryAttributes.color  \\\n",
            "count                       1                        1   \n",
            "unique                      1                        1   \n",
            "top                      Slim                    White   \n",
            "freq                        1                        1   \n",
            "mean                      NaN                      NaN   \n",
            "std                       NaN                      NaN   \n",
            "min                       NaN                      NaN   \n",
            "25%                       NaN                      NaN   \n",
            "50%                       NaN                      NaN   \n",
            "75%                       NaN                      NaN   \n",
            "max                       NaN                      NaN   \n",
            "\n",
            "       categoryAttributes.sleeveLength categoryAttributes.gender  \\\n",
            "count                                1                         1   \n",
            "unique                               1                         1   \n",
            "top                               Long                     Men's   \n",
            "freq                                 1                         1   \n",
            "mean                               NaN                       NaN   \n",
            "std                                NaN                       NaN   \n",
            "min                                NaN                       NaN   \n",
            "25%                                NaN                       NaN   \n",
            "50%                                NaN                       NaN   \n",
            "75%                                NaN                       NaN   \n",
            "max                                NaN                       NaN   \n",
            "\n",
            "        categoryAttributes.shoeType categoryAttributes.style  \n",
            "count                             1                        1  \n",
            "unique                            1                        1  \n",
            "top                        Athletic                    Biker  \n",
            "freq                              1                        1  \n",
            "mean                            NaN                      NaN  \n",
            "std                             NaN                      NaN  \n",
            "min                             NaN                      NaN  \n",
            "25%                             NaN                      NaN  \n",
            "50%                             NaN                      NaN  \n",
            "75%                             NaN                      NaN  \n",
            "max                             NaN                      NaN  \n",
            "\n",
            "[11 rows x 28 columns]\n"
          ]
        }
      ]
    },
    {
      "cell_type": "code",
      "source": [
        "#information\n",
        "info = df.info()"
      ],
      "metadata": {
        "colab": {
          "base_uri": "https://localhost:8080/"
        },
        "id": "h6UyUXe6TVDx",
        "outputId": "390e5847-e3ba-449a-9217-99facf4e3d01"
      },
      "execution_count": 3,
      "outputs": [
        {
          "output_type": "stream",
          "name": "stdout",
          "text": [
            "<class 'pandas.core.frame.DataFrame'>\n",
            "RangeIndex: 10 entries, 0 to 9\n",
            "Data columns (total 28 columns):\n",
            " #   Column                                 Non-Null Count  Dtype  \n",
            "---  ------                                 --------------  -----  \n",
            " 0   productName                            10 non-null     object \n",
            " 1   productCategory                        10 non-null     object \n",
            " 2   productID                              10 non-null     object \n",
            " 3   categoryAttributes.displaySize         1 non-null      object \n",
            " 4   categoryAttributes.cameraResolution    1 non-null      object \n",
            " 5   categoryAttributes.storage             1 non-null      object \n",
            " 6   categoryAttributes.screenSize          1 non-null      object \n",
            " 7   categoryAttributes.resolution          1 non-null      object \n",
            " 8   categoryAttributes.smartTV             1 non-null      object \n",
            " 9   categoryAttributes.wirelessTechnology  1 non-null      object \n",
            " 10  categoryAttributes.batteryLife         1 non-null      object \n",
            " 11  categoryAttributes.noiseReduction      1 non-null      object \n",
            " 12  categoryAttributes.material            3 non-null      object \n",
            " 13  categoryAttributes.diameter            1 non-null      object \n",
            " 14  categoryAttributes.ovenSafe            1 non-null      object \n",
            " 15  categoryAttributes.bagless             1 non-null      object \n",
            " 16  categoryAttributes.filterType          1 non-null      object \n",
            " 17  categoryAttributes.cordLength          1 non-null      object \n",
            " 18  categoryAttributes.numberOfKnives      1 non-null      float64\n",
            " 19  categoryAttributes.bladeType           1 non-null      object \n",
            " 20  categoryAttributes.knifeBlock          1 non-null      object \n",
            " 21  categoryAttributes.size                4 non-null      object \n",
            " 22  categoryAttributes.fit                 1 non-null      object \n",
            " 23  categoryAttributes.color               1 non-null      object \n",
            " 24  categoryAttributes.sleeveLength        1 non-null      object \n",
            " 25  categoryAttributes.gender              1 non-null      object \n",
            " 26  categoryAttributes.shoeType            1 non-null      object \n",
            " 27  categoryAttributes.style               1 non-null      object \n",
            "dtypes: float64(1), object(27)\n",
            "memory usage: 2.3+ KB\n"
          ]
        }
      ]
    },
    {
      "cell_type": "markdown",
      "source": [
        "b) Using AI for Data Quality and Data Cleansing"
      ],
      "metadata": {
        "id": "vzaY3yvrTZdF"
      }
    },
    {
      "cell_type": "code",
      "source": [
        "import pandas as pd\n",
        "import json\n",
        "\n",
        "# Load JSON file\n",
        "file_path = \"/content/products.json\"\n",
        "df = pd.read_json(file_path)\n",
        "\n",
        "# --- Data Quality Checks ---\n",
        "print(\"Checking for data quality issues...\\n\")\n",
        "\n",
        "# 1. Check for missing values\n",
        "missing_values = df.isnull().sum()\n",
        "print(\"Missing Values per column:\\n\", missing_values, \"\\n\")\n",
        "\n",
        "# 2. Check for duplicates (handle unhashable data)\n",
        "df_for_dup = df.copy()\n",
        "\n",
        "# Convert unhashable types to strings so duplicates() works\n",
        "for col in df_for_dup.columns:\n",
        "    df_for_dup[col] = df_for_dup[col].apply(lambda x: json.dumps(x, sort_keys=True) if isinstance(x, dict) else x)\n",
        "\n",
        "duplicates = df_for_dup[df_for_dup.duplicated()]\n",
        "print(f\"Number of duplicate rows: {duplicates.shape[0]}\\n\")\n",
        "\n",
        "# 3. Check data types\n",
        "print(\"Data types:\\n\", df.dtypes, \"\\n\")\n",
        "\n",
        "# 4. Basic stats for numeric columns\n",
        "print(\"Summary statistics for numeric columns:\\n\", df.describe(), \"\\n\")\n",
        "\n",
        "# --- Data Cleaning ---\n",
        "print(\"Fixing data issues...\\n\")\n",
        "\n",
        "# Remove duplicates\n",
        "df_cleaned = df[~df_for_dup.duplicated()]\n",
        "\n",
        "# Fill missing values (example: fill numeric with mean, text with 'Unknown')\n",
        "for col in df_cleaned.columns:\n",
        "    if df_cleaned[col].dtype == 'O':  # Object/string\n",
        "        df_cleaned[col].fillna('Unknown', inplace=True)\n",
        "    else:  # Numeric\n",
        "        df_cleaned[col].fillna(df_cleaned[col].mean(), inplace=True)\n",
        "\n",
        "# Save cleaned file\n",
        "df_cleaned.to_json(\"cleaned_data.json\", orient=\"records\", indent=4)\n",
        "\n",
        "print(\"Data cleaning complete. Cleaned data saved to 'cleaned_data.json'.\")"
      ],
      "metadata": {
        "colab": {
          "base_uri": "https://localhost:8080/"
        },
        "id": "eGGrBcKgTXkZ",
        "outputId": "7f29b0c9-8a89-481f-e0be-6a58fe89e7d1"
      },
      "execution_count": 4,
      "outputs": [
        {
          "output_type": "stream",
          "name": "stdout",
          "text": [
            "Checking for data quality issues...\n",
            "\n",
            "Missing Values per column:\n",
            " productName           0\n",
            "productCategory       0\n",
            "productID             0\n",
            "categoryAttributes    0\n",
            "dtype: int64 \n",
            "\n",
            "Number of duplicate rows: 0\n",
            "\n",
            "Data types:\n",
            " productName           object\n",
            "productCategory       object\n",
            "productID             object\n",
            "categoryAttributes    object\n",
            "dtype: object \n",
            "\n",
            "Summary statistics for numeric columns:\n",
            "            productName productCategory productID  \\\n",
            "count               10              10        10   \n",
            "unique              10               3        10   \n",
            "top     myPhone 13 Pro        clothing   ELEC001   \n",
            "freq                 1               4         1   \n",
            "\n",
            "                                       categoryAttributes  \n",
            "count                                                  10  \n",
            "unique                                                 10  \n",
            "top     {'displaySize': '6.1 inches', 'cameraResolutio...  \n",
            "freq                                                    1   \n",
            "\n",
            "Fixing data issues...\n",
            "\n",
            "Data cleaning complete. Cleaned data saved to 'cleaned_data.json'.\n"
          ]
        },
        {
          "output_type": "stream",
          "name": "stderr",
          "text": [
            "/tmp/ipython-input-2472924874.py:40: FutureWarning: A value is trying to be set on a copy of a DataFrame or Series through chained assignment using an inplace method.\n",
            "The behavior will change in pandas 3.0. This inplace method will never work because the intermediate object on which we are setting values always behaves as a copy.\n",
            "\n",
            "For example, when doing 'df[col].method(value, inplace=True)', try using 'df.method({col: value}, inplace=True)' or df[col] = df[col].method(value) instead, to perform the operation inplace on the original object.\n",
            "\n",
            "\n",
            "  df_cleaned[col].fillna('Unknown', inplace=True)\n"
          ]
        }
      ]
    },
    {
      "cell_type": "markdown",
      "source": [
        "**Challenge:** <br>\n",
        "Use sensor dataset and check for missing values and replace the missing values with averages of that column."
      ],
      "metadata": {
        "id": "U3FXljYLTeMl"
      }
    },
    {
      "cell_type": "code",
      "source": [
        "import pandas as pd\n",
        "import numpy as np\n",
        "# Load CSV file\n",
        "df = pd.read_csv(\"/content/10_challenge_missing_data.csv\")\n",
        "\n",
        "# Display first few rows\n",
        "print(\"First 5 rows of the dataset:\")\n",
        "print(df.head())\n",
        "\n",
        "# Check missing values per column\n",
        "print(\"\\nMissing values per column before fixing:\")\n",
        "print(df.isnull().sum())\n",
        "\n",
        "# Fill missing values in numerical columns with column mean\n",
        "numeric_cols = df.select_dtypes(include=['number']).columns\n",
        "df[numeric_cols] = df[numeric_cols].fillna(df[numeric_cols].mean())\n",
        "\n",
        "# Verify missing values are fixed\n",
        "print(\"\\nMissing values per column after fixing:\")\n",
        "print(df.isnull().sum())\n",
        "\n",
        "# Save the cleaned data (optional)\n",
        "df.to_csv(\"sensor_data_cleaned.csv\", index=False)\n",
        "print(\"\\nCleaned dataset saved to 'sensor_data_cleaned.csv'\")"
      ],
      "metadata": {
        "colab": {
          "base_uri": "https://localhost:8080/"
        },
        "id": "RAh5aaYfTdGT",
        "outputId": "182abb9c-2c42-48b4-898f-ca9a8aa015f2"
      },
      "execution_count": 6,
      "outputs": [
        {
          "output_type": "stream",
          "name": "stdout",
          "text": [
            "First 5 rows of the dataset:\n",
            "  sensor_id                  timestamp  temperature_celsius  \\\n",
            "0  sensor_1  2025-07-01 01:00:00+00:00                20.62   \n",
            "1  sensor_1  2025-07-01 01:01:00+00:00                23.52   \n",
            "2  sensor_1  2025-07-01 01:02:00+00:00                22.32   \n",
            "3  sensor_1  2025-07-01 01:03:00+00:00                20.30   \n",
            "4  sensor_1  2025-07-01 01:04:00+00:00                21.84   \n",
            "\n",
            "   relative_humidity  pressure_mbar  \n",
            "0              68.70        1002.92  \n",
            "1              49.48        1007.01  \n",
            "2              63.27         993.90  \n",
            "3              69.39        1008.47  \n",
            "4              62.61         994.87  \n",
            "\n",
            "Missing values per column before fixing:\n",
            "sensor_id              0\n",
            "timestamp              0\n",
            "temperature_celsius    3\n",
            "relative_humidity      4\n",
            "pressure_mbar          2\n",
            "dtype: int64\n",
            "\n",
            "Missing values per column after fixing:\n",
            "sensor_id              0\n",
            "timestamp              0\n",
            "temperature_celsius    0\n",
            "relative_humidity      0\n",
            "pressure_mbar          0\n",
            "dtype: int64\n",
            "\n",
            "Cleaned dataset saved to 'sensor_data_cleaned.csv'\n"
          ]
        }
      ]
    }
  ]
}