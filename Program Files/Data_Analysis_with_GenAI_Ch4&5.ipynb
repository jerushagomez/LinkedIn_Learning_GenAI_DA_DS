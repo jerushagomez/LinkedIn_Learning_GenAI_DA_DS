{
  "nbformat": 4,
  "nbformat_minor": 0,
  "metadata": {
    "colab": {
      "provenance": []
    },
    "kernelspec": {
      "name": "python3",
      "display_name": "Python 3"
    },
    "language_info": {
      "name": "python"
    }
  },
  "cells": [
    {
      "cell_type": "markdown",
      "source": [
        "# ***Complete Guide to Generative AI for Data Analysis and Data Science***\n",
        "\n",
        "---\n",
        "\n"
      ],
      "metadata": {
        "id": "n_ezh6qjGOdG"
      }
    },
    {
      "cell_type": "markdown",
      "source": [
        "### **Chapter 4:** *Techniques for Describing Data*"
      ],
      "metadata": {
        "id": "PFbcvGIRG4gn"
      }
    },
    {
      "cell_type": "code",
      "execution_count": null,
      "metadata": {
        "id": "Ba9t_Rx3rabT"
      },
      "outputs": [],
      "source": [
        "import pandas as pd\n",
        "import numpy as np"
      ]
    },
    {
      "cell_type": "code",
      "source": [
        "gro_data = pd.read_csv(\"/content/04_challenge_Grocery_Store_Sales_Data.csv\")"
      ],
      "metadata": {
        "id": "dZPhKaZ2rq8x"
      },
      "execution_count": null,
      "outputs": []
    },
    {
      "cell_type": "code",
      "source": [
        "from google.colab import drive\n",
        "drive.mount('/content/drive')"
      ],
      "metadata": {
        "colab": {
          "base_uri": "https://localhost:8080/"
        },
        "collapsed": true,
        "id": "eRiJOzq8Gva5",
        "outputId": "b6587db2-dc8a-4206-8994-ed772db80f74"
      },
      "execution_count": null,
      "outputs": [
        {
          "output_type": "stream",
          "name": "stdout",
          "text": [
            "Drive already mounted at /content/drive; to attempt to forcibly remount, call drive.mount(\"/content/drive\", force_remount=True).\n"
          ]
        }
      ]
    },
    {
      "cell_type": "code",
      "source": [
        "gro_data.head()"
      ],
      "metadata": {
        "colab": {
          "base_uri": "https://localhost:8080/",
          "height": 223
        },
        "id": "tj-87dfLr_BV",
        "outputId": "fcc8b9ba-889d-44ac-8b19-998d8416352c"
      },
      "execution_count": null,
      "outputs": [
        {
          "output_type": "execute_result",
          "data": {
            "text/plain": [
              "  Product Name Product Category  Cost per Unit  Sale Price per Unit  \\\n",
              "0        Apple            Fruit           0.30                 0.50   \n",
              "1       Banana            Fruit           0.15                 0.25   \n",
              "2       Orange            Fruit           0.40                 0.60   \n",
              "3     Broccoli        Vegetable           0.50                 0.80   \n",
              "4       Carrot        Vegetable           0.20                 0.35   \n",
              "\n",
              "   Units Sold  Total Cost of Units Sold  Total Revenue of Units Sold  \n",
              "0         100                      30.0                         50.0  \n",
              "1         150                      22.5                         37.5  \n",
              "2          80                      32.0                         48.0  \n",
              "3          60                      30.0                         48.0  \n",
              "4         200                      40.0                         70.0  "
            ],
            "text/html": [
              "\n",
              "  <div id=\"df-8fb935f7-1961-43b1-9bc5-69757146f1c4\" class=\"colab-df-container\">\n",
              "    <div>\n",
              "<style scoped>\n",
              "    .dataframe tbody tr th:only-of-type {\n",
              "        vertical-align: middle;\n",
              "    }\n",
              "\n",
              "    .dataframe tbody tr th {\n",
              "        vertical-align: top;\n",
              "    }\n",
              "\n",
              "    .dataframe thead th {\n",
              "        text-align: right;\n",
              "    }\n",
              "</style>\n",
              "<table border=\"1\" class=\"dataframe\">\n",
              "  <thead>\n",
              "    <tr style=\"text-align: right;\">\n",
              "      <th></th>\n",
              "      <th>Product Name</th>\n",
              "      <th>Product Category</th>\n",
              "      <th>Cost per Unit</th>\n",
              "      <th>Sale Price per Unit</th>\n",
              "      <th>Units Sold</th>\n",
              "      <th>Total Cost of Units Sold</th>\n",
              "      <th>Total Revenue of Units Sold</th>\n",
              "    </tr>\n",
              "  </thead>\n",
              "  <tbody>\n",
              "    <tr>\n",
              "      <th>0</th>\n",
              "      <td>Apple</td>\n",
              "      <td>Fruit</td>\n",
              "      <td>0.30</td>\n",
              "      <td>0.50</td>\n",
              "      <td>100</td>\n",
              "      <td>30.0</td>\n",
              "      <td>50.0</td>\n",
              "    </tr>\n",
              "    <tr>\n",
              "      <th>1</th>\n",
              "      <td>Banana</td>\n",
              "      <td>Fruit</td>\n",
              "      <td>0.15</td>\n",
              "      <td>0.25</td>\n",
              "      <td>150</td>\n",
              "      <td>22.5</td>\n",
              "      <td>37.5</td>\n",
              "    </tr>\n",
              "    <tr>\n",
              "      <th>2</th>\n",
              "      <td>Orange</td>\n",
              "      <td>Fruit</td>\n",
              "      <td>0.40</td>\n",
              "      <td>0.60</td>\n",
              "      <td>80</td>\n",
              "      <td>32.0</td>\n",
              "      <td>48.0</td>\n",
              "    </tr>\n",
              "    <tr>\n",
              "      <th>3</th>\n",
              "      <td>Broccoli</td>\n",
              "      <td>Vegetable</td>\n",
              "      <td>0.50</td>\n",
              "      <td>0.80</td>\n",
              "      <td>60</td>\n",
              "      <td>30.0</td>\n",
              "      <td>48.0</td>\n",
              "    </tr>\n",
              "    <tr>\n",
              "      <th>4</th>\n",
              "      <td>Carrot</td>\n",
              "      <td>Vegetable</td>\n",
              "      <td>0.20</td>\n",
              "      <td>0.35</td>\n",
              "      <td>200</td>\n",
              "      <td>40.0</td>\n",
              "      <td>70.0</td>\n",
              "    </tr>\n",
              "  </tbody>\n",
              "</table>\n",
              "</div>\n",
              "    <div class=\"colab-df-buttons\">\n",
              "\n",
              "  <div class=\"colab-df-container\">\n",
              "    <button class=\"colab-df-convert\" onclick=\"convertToInteractive('df-8fb935f7-1961-43b1-9bc5-69757146f1c4')\"\n",
              "            title=\"Convert this dataframe to an interactive table.\"\n",
              "            style=\"display:none;\">\n",
              "\n",
              "  <svg xmlns=\"http://www.w3.org/2000/svg\" height=\"24px\" viewBox=\"0 -960 960 960\">\n",
              "    <path d=\"M120-120v-720h720v720H120Zm60-500h600v-160H180v160Zm220 220h160v-160H400v160Zm0 220h160v-160H400v160ZM180-400h160v-160H180v160Zm440 0h160v-160H620v160ZM180-180h160v-160H180v160Zm440 0h160v-160H620v160Z\"/>\n",
              "  </svg>\n",
              "    </button>\n",
              "\n",
              "  <style>\n",
              "    .colab-df-container {\n",
              "      display:flex;\n",
              "      gap: 12px;\n",
              "    }\n",
              "\n",
              "    .colab-df-convert {\n",
              "      background-color: #E8F0FE;\n",
              "      border: none;\n",
              "      border-radius: 50%;\n",
              "      cursor: pointer;\n",
              "      display: none;\n",
              "      fill: #1967D2;\n",
              "      height: 32px;\n",
              "      padding: 0 0 0 0;\n",
              "      width: 32px;\n",
              "    }\n",
              "\n",
              "    .colab-df-convert:hover {\n",
              "      background-color: #E2EBFA;\n",
              "      box-shadow: 0px 1px 2px rgba(60, 64, 67, 0.3), 0px 1px 3px 1px rgba(60, 64, 67, 0.15);\n",
              "      fill: #174EA6;\n",
              "    }\n",
              "\n",
              "    .colab-df-buttons div {\n",
              "      margin-bottom: 4px;\n",
              "    }\n",
              "\n",
              "    [theme=dark] .colab-df-convert {\n",
              "      background-color: #3B4455;\n",
              "      fill: #D2E3FC;\n",
              "    }\n",
              "\n",
              "    [theme=dark] .colab-df-convert:hover {\n",
              "      background-color: #434B5C;\n",
              "      box-shadow: 0px 1px 3px 1px rgba(0, 0, 0, 0.15);\n",
              "      filter: drop-shadow(0px 1px 2px rgba(0, 0, 0, 0.3));\n",
              "      fill: #FFFFFF;\n",
              "    }\n",
              "  </style>\n",
              "\n",
              "    <script>\n",
              "      const buttonEl =\n",
              "        document.querySelector('#df-8fb935f7-1961-43b1-9bc5-69757146f1c4 button.colab-df-convert');\n",
              "      buttonEl.style.display =\n",
              "        google.colab.kernel.accessAllowed ? 'block' : 'none';\n",
              "\n",
              "      async function convertToInteractive(key) {\n",
              "        const element = document.querySelector('#df-8fb935f7-1961-43b1-9bc5-69757146f1c4');\n",
              "        const dataTable =\n",
              "          await google.colab.kernel.invokeFunction('convertToInteractive',\n",
              "                                                    [key], {});\n",
              "        if (!dataTable) return;\n",
              "\n",
              "        const docLinkHtml = 'Like what you see? Visit the ' +\n",
              "          '<a target=\"_blank\" href=https://colab.research.google.com/notebooks/data_table.ipynb>data table notebook</a>'\n",
              "          + ' to learn more about interactive tables.';\n",
              "        element.innerHTML = '';\n",
              "        dataTable['output_type'] = 'display_data';\n",
              "        await google.colab.output.renderOutput(dataTable, element);\n",
              "        const docLink = document.createElement('div');\n",
              "        docLink.innerHTML = docLinkHtml;\n",
              "        element.appendChild(docLink);\n",
              "      }\n",
              "    </script>\n",
              "  </div>\n",
              "\n",
              "\n",
              "    <div id=\"df-ab81785a-0180-4b4f-b473-91143d3ffae8\">\n",
              "      <button class=\"colab-df-quickchart\" onclick=\"quickchart('df-ab81785a-0180-4b4f-b473-91143d3ffae8')\"\n",
              "                title=\"Suggest charts\"\n",
              "                style=\"display:none;\">\n",
              "\n",
              "<svg xmlns=\"http://www.w3.org/2000/svg\" height=\"24px\"viewBox=\"0 0 24 24\"\n",
              "     width=\"24px\">\n",
              "    <g>\n",
              "        <path d=\"M19 3H5c-1.1 0-2 .9-2 2v14c0 1.1.9 2 2 2h14c1.1 0 2-.9 2-2V5c0-1.1-.9-2-2-2zM9 17H7v-7h2v7zm4 0h-2V7h2v10zm4 0h-2v-4h2v4z\"/>\n",
              "    </g>\n",
              "</svg>\n",
              "      </button>\n",
              "\n",
              "<style>\n",
              "  .colab-df-quickchart {\n",
              "      --bg-color: #E8F0FE;\n",
              "      --fill-color: #1967D2;\n",
              "      --hover-bg-color: #E2EBFA;\n",
              "      --hover-fill-color: #174EA6;\n",
              "      --disabled-fill-color: #AAA;\n",
              "      --disabled-bg-color: #DDD;\n",
              "  }\n",
              "\n",
              "  [theme=dark] .colab-df-quickchart {\n",
              "      --bg-color: #3B4455;\n",
              "      --fill-color: #D2E3FC;\n",
              "      --hover-bg-color: #434B5C;\n",
              "      --hover-fill-color: #FFFFFF;\n",
              "      --disabled-bg-color: #3B4455;\n",
              "      --disabled-fill-color: #666;\n",
              "  }\n",
              "\n",
              "  .colab-df-quickchart {\n",
              "    background-color: var(--bg-color);\n",
              "    border: none;\n",
              "    border-radius: 50%;\n",
              "    cursor: pointer;\n",
              "    display: none;\n",
              "    fill: var(--fill-color);\n",
              "    height: 32px;\n",
              "    padding: 0;\n",
              "    width: 32px;\n",
              "  }\n",
              "\n",
              "  .colab-df-quickchart:hover {\n",
              "    background-color: var(--hover-bg-color);\n",
              "    box-shadow: 0 1px 2px rgba(60, 64, 67, 0.3), 0 1px 3px 1px rgba(60, 64, 67, 0.15);\n",
              "    fill: var(--button-hover-fill-color);\n",
              "  }\n",
              "\n",
              "  .colab-df-quickchart-complete:disabled,\n",
              "  .colab-df-quickchart-complete:disabled:hover {\n",
              "    background-color: var(--disabled-bg-color);\n",
              "    fill: var(--disabled-fill-color);\n",
              "    box-shadow: none;\n",
              "  }\n",
              "\n",
              "  .colab-df-spinner {\n",
              "    border: 2px solid var(--fill-color);\n",
              "    border-color: transparent;\n",
              "    border-bottom-color: var(--fill-color);\n",
              "    animation:\n",
              "      spin 1s steps(1) infinite;\n",
              "  }\n",
              "\n",
              "  @keyframes spin {\n",
              "    0% {\n",
              "      border-color: transparent;\n",
              "      border-bottom-color: var(--fill-color);\n",
              "      border-left-color: var(--fill-color);\n",
              "    }\n",
              "    20% {\n",
              "      border-color: transparent;\n",
              "      border-left-color: var(--fill-color);\n",
              "      border-top-color: var(--fill-color);\n",
              "    }\n",
              "    30% {\n",
              "      border-color: transparent;\n",
              "      border-left-color: var(--fill-color);\n",
              "      border-top-color: var(--fill-color);\n",
              "      border-right-color: var(--fill-color);\n",
              "    }\n",
              "    40% {\n",
              "      border-color: transparent;\n",
              "      border-right-color: var(--fill-color);\n",
              "      border-top-color: var(--fill-color);\n",
              "    }\n",
              "    60% {\n",
              "      border-color: transparent;\n",
              "      border-right-color: var(--fill-color);\n",
              "    }\n",
              "    80% {\n",
              "      border-color: transparent;\n",
              "      border-right-color: var(--fill-color);\n",
              "      border-bottom-color: var(--fill-color);\n",
              "    }\n",
              "    90% {\n",
              "      border-color: transparent;\n",
              "      border-bottom-color: var(--fill-color);\n",
              "    }\n",
              "  }\n",
              "</style>\n",
              "\n",
              "      <script>\n",
              "        async function quickchart(key) {\n",
              "          const quickchartButtonEl =\n",
              "            document.querySelector('#' + key + ' button');\n",
              "          quickchartButtonEl.disabled = true;  // To prevent multiple clicks.\n",
              "          quickchartButtonEl.classList.add('colab-df-spinner');\n",
              "          try {\n",
              "            const charts = await google.colab.kernel.invokeFunction(\n",
              "                'suggestCharts', [key], {});\n",
              "          } catch (error) {\n",
              "            console.error('Error during call to suggestCharts:', error);\n",
              "          }\n",
              "          quickchartButtonEl.classList.remove('colab-df-spinner');\n",
              "          quickchartButtonEl.classList.add('colab-df-quickchart-complete');\n",
              "        }\n",
              "        (() => {\n",
              "          let quickchartButtonEl =\n",
              "            document.querySelector('#df-ab81785a-0180-4b4f-b473-91143d3ffae8 button');\n",
              "          quickchartButtonEl.style.display =\n",
              "            google.colab.kernel.accessAllowed ? 'block' : 'none';\n",
              "        })();\n",
              "      </script>\n",
              "    </div>\n",
              "\n",
              "    </div>\n",
              "  </div>\n"
            ],
            "application/vnd.google.colaboratory.intrinsic+json": {
              "type": "dataframe",
              "variable_name": "gro_data",
              "summary": "{\n  \"name\": \"gro_data\",\n  \"rows\": 10,\n  \"fields\": [\n    {\n      \"column\": \"Product Name\",\n      \"properties\": {\n        \"dtype\": \"string\",\n        \"num_unique_values\": 10,\n        \"samples\": [\n          \"Bread\",\n          \"Banana\",\n          \"Chicken Breast\"\n        ],\n        \"semantic_type\": \"\",\n        \"description\": \"\"\n      }\n    },\n    {\n      \"column\": \"Product Category\",\n      \"properties\": {\n        \"dtype\": \"string\",\n        \"num_unique_values\": 5,\n        \"samples\": [\n          \"Vegetable\",\n          \"Bakery\",\n          \"Meat\"\n        ],\n        \"semantic_type\": \"\",\n        \"description\": \"\"\n      }\n    },\n    {\n      \"column\": \"Cost per Unit\",\n      \"properties\": {\n        \"dtype\": \"number\",\n        \"std\": 1.0440439539491515,\n        \"min\": 0.1,\n        \"max\": 3.0,\n        \"num_unique_values\": 10,\n        \"samples\": [\n          1.5,\n          0.15,\n          3.0\n        ],\n        \"semantic_type\": \"\",\n        \"description\": \"\"\n      }\n    },\n    {\n      \"column\": \"Sale Price per Unit\",\n      \"properties\": {\n        \"dtype\": \"number\",\n        \"std\": 1.3087419743996735,\n        \"min\": 0.15,\n        \"max\": 4.0,\n        \"num_unique_values\": 10,\n        \"samples\": [\n          2.0,\n          0.25,\n          4.0\n        ],\n        \"semantic_type\": \"\",\n        \"description\": \"\"\n      }\n    },\n    {\n      \"column\": \"Units Sold\",\n      \"properties\": {\n        \"dtype\": \"number\",\n        \"std\": 79,\n        \"min\": 40,\n        \"max\": 300,\n        \"num_unique_values\": 10,\n        \"samples\": [\n          90,\n          150,\n          40\n        ],\n        \"semantic_type\": \"\",\n        \"description\": \"\"\n      }\n    },\n    {\n      \"column\": \"Total Cost of Units Sold\",\n      \"properties\": {\n        \"dtype\": \"number\",\n        \"std\": 52.30150305892004,\n        \"min\": 22.5,\n        \"max\": 144.0,\n        \"num_unique_values\": 8,\n        \"samples\": [\n          22.5,\n          144.0,\n          30.0\n        ],\n        \"semantic_type\": \"\",\n        \"description\": \"\"\n      }\n    },\n    {\n      \"column\": \"Total Revenue of Units Sold\",\n      \"properties\": {\n        \"dtype\": \"number\",\n        \"std\": 61.94982288558665,\n        \"min\": 37.5,\n        \"max\": 180.0,\n        \"num_unique_values\": 8,\n        \"samples\": [\n          37.5,\n          180.0,\n          50.0\n        ],\n        \"semantic_type\": \"\",\n        \"description\": \"\"\n      }\n    }\n  ]\n}"
            }
          },
          "metadata": {},
          "execution_count": 7
        }
      ]
    },
    {
      "cell_type": "code",
      "source": [
        "#Mean and STD of Cost Per Unit\n",
        "mean_costpu = gro_data['Cost per Unit'].mean()\n",
        "std_costpu = gro_data['Cost per Unit'].std()"
      ],
      "metadata": {
        "id": "deziLEr1r_Dh"
      },
      "execution_count": null,
      "outputs": []
    },
    {
      "cell_type": "code",
      "source": [
        "#Mean and STD of Sales Per Unit\n",
        "mean_salespu = gro_data['Sale Price per Unit'].mean()\n",
        "std_salespu = gro_data['Sale Price per Unit'].std()"
      ],
      "metadata": {
        "id": "uU128YqKr_GF"
      },
      "execution_count": null,
      "outputs": []
    },
    {
      "cell_type": "code",
      "source": [
        "#Mode of the Product category\n",
        "mode_category = gro_data['Product Category'].mode()[0]"
      ],
      "metadata": {
        "id": "m-w5SxCdr_Iq"
      },
      "execution_count": null,
      "outputs": []
    },
    {
      "cell_type": "code",
      "source": [
        "(mean_costpu, std_costpu, mean_salespu, std_salespu, mode_category)"
      ],
      "metadata": {
        "colab": {
          "base_uri": "https://localhost:8080/"
        },
        "id": "Fg6iAj10r_LF",
        "outputId": "9fa36295-e4e0-4f17-a5dc-8f29dda7bcde"
      },
      "execution_count": null,
      "outputs": [
        {
          "output_type": "execute_result",
          "data": {
            "text/plain": [
              "(np.float64(0.985),\n",
              " 1.0440439539491515,\n",
              " np.float64(1.315),\n",
              " 1.3087419743996735,\n",
              " 'Dairy')"
            ]
          },
          "metadata": {},
          "execution_count": 11
        }
      ]
    },
    {
      "cell_type": "markdown",
      "source": [
        "\n",
        "\n",
        "---\n",
        "\n"
      ],
      "metadata": {
        "id": "8gxc3K24Hhsj"
      }
    },
    {
      "cell_type": "markdown",
      "source": [
        "### **Chapter 5:** *Distributions of Data*"
      ],
      "metadata": {
        "id": "6GGpk18-HG7b"
      }
    },
    {
      "cell_type": "markdown",
      "source": [
        "a) Generating a Normal Distribution Using GenAI\n",
        "\n"
      ],
      "metadata": {
        "id": "wcb9TiqpGtw3"
      }
    },
    {
      "cell_type": "code",
      "source": [
        "import numpy as np\n",
        "import matplotlib.pyplot as plt"
      ],
      "metadata": {
        "id": "FpIQX8A9r_Oc"
      },
      "execution_count": null,
      "outputs": []
    },
    {
      "cell_type": "code",
      "source": [
        "# Parameters\n",
        "num_scores = 100  # Number of test scores to generate\n",
        "mean = 70         # Average score\n",
        "std_dev = 10      # Standard deviation\n",
        "\n",
        "# Generate normally distributed scores\n",
        "scores = np.random.normal(loc=mean, scale=std_dev, size=num_scores)\n",
        "\n",
        "# Clip the scores to be within 0 to 100\n",
        "scores = np.clip(scores, 0, 100)\n",
        "\n",
        "# Convert to integers if needed (optional)\n",
        "scores = scores.astype(int)\n",
        "\n",
        "# Display the scores\n",
        "print(\"Generated Test Scores:\")\n",
        "print(scores)"
      ],
      "metadata": {
        "colab": {
          "base_uri": "https://localhost:8080/"
        },
        "id": "92ZLe181HEwu",
        "outputId": "3993c4f3-c260-41ea-f966-3f1c42b930b4"
      },
      "execution_count": null,
      "outputs": [
        {
          "output_type": "stream",
          "name": "stdout",
          "text": [
            "Generated Test Scores:\n",
            "[68 68 65 82 75 62 62 62 72 66 71 75 73 74 62 69 79 58 80 64 53 78 75 70\n",
            " 63 60 68 82 78 69 64 79 64 68 86 69 80 73 67 73 80 68 77 66 67 66 69 78\n",
            " 74 83 77 51 70 75 56 79 74 91 74 69 77 76 72 74 56 71 81 71 79 75 84 83\n",
            " 68 73 54 52 77 58 62 62 64 82 90 73 78 53 63 72 56 74 58 74 61 66 69 85\n",
            " 60 66 60 52]\n"
          ]
        }
      ]
    },
    {
      "cell_type": "markdown",
      "source": [
        "b) Visualizing the Normal Distribution"
      ],
      "metadata": {
        "id": "gZnPaWlpH9HL"
      }
    },
    {
      "cell_type": "code",
      "source": [
        "plt.hist(scores, bins=10, edgecolor='black')\n",
        "plt.title(\"Distribution of Test Scores\")\n",
        "plt.xlabel(\"Score\")\n",
        "plt.ylabel(\"Frequency\")\n",
        "plt.grid(True)\n",
        "plt.show()"
      ],
      "metadata": {
        "colab": {
          "base_uri": "https://localhost:8080/",
          "height": 472
        },
        "id": "Asqq1zooHfAG",
        "outputId": "d25e80ce-f4f5-4439-fbb3-eee0f3b2f6dd"
      },
      "execution_count": null,
      "outputs": [
        {
          "output_type": "display_data",
          "data": {
            "text/plain": [
              "<Figure size 640x480 with 1 Axes>"
            ],
            "image/png": "[encoded data removed]"
          },
          "metadata": {}
        }
      ]
    },
    {
      "cell_type": "markdown",
      "source": [
        "c) Generating and Visualizing a Uniform Distribution"
      ],
      "metadata": {
        "id": "dZm0j7ZRJitx"
      }
    },
    {
      "cell_type": "code",
      "source": [
        "# Parameters\n",
        "num_scores = 100  # Number of test scores\n",
        "\n",
        "# Generate uniformly distributed scores\n",
        "scores = np.random.uniform(low=0, high=100, size=num_scores)\n",
        "\n",
        "# Optionally round to integers (like actual test scores)\n",
        "scores = scores.astype(int)\n",
        "\n",
        "# Display the scores\n",
        "print(\"Generated Test Scores (Uniform Distribution):\")\n",
        "print(scores)"
      ],
      "metadata": {
        "colab": {
          "base_uri": "https://localhost:8080/"
        },
        "id": "tYrmh38XJnhz",
        "outputId": "c920bda5-b638-49bb-f153-4242ce9c7773"
      },
      "execution_count": null,
      "outputs": [
        {
          "output_type": "stream",
          "name": "stdout",
          "text": [
            "Generated Test Scores (Uniform Distribution):\n",
            "[12 96 92 57 12 99 68 69  3 96 44  7 18  6 57 51 31 93 80 74 43 23 22 26\n",
            "  0 99 60  4 70 97  5 16 58 31 32 94 72 44 35 81  9 81 38 75  7 25 81 70\n",
            " 99 25 57 72 37 95 27  0 52 61 23 90 34 15 52 27 57 13 14 40  4 47 40 16\n",
            " 44 47 25 98 58 48 33 98 78 25 97 50 97 41 27 56 34 81 56 52 61 32 35 69\n",
            " 57 92 15 73]\n"
          ]
        }
      ]
    },
    {
      "cell_type": "code",
      "source": [
        "# Plot the distribution\n",
        "plt.hist(scores, bins=10, edgecolor='black')\n",
        "plt.title(\"Uniform Distribution of Test Scores\")\n",
        "plt.xlabel(\"Score\")\n",
        "plt.ylabel(\"Frequency\")\n",
        "plt.grid(True)\n",
        "plt.show()"
      ],
      "metadata": {
        "id": "EDfHWzLfJveV",
        "outputId": "e3b75c59-5e73-4bd6-98d4-978aa9f8656f",
        "colab": {
          "base_uri": "https://localhost:8080/",
          "height": 472
        }
      },
      "execution_count": null,
      "outputs": [
        {
          "output_type": "display_data",
          "data": {
            "text/plain": [
              "<Figure size 640x480 with 1 Axes>"
            ],
            "image/png": "[encoded data removed]"
          },
          "metadata": {}
        }
      ]
    },
    {
      "cell_type": "markdown",
      "source": [
        "d) Visualizing a Bimodal Distribution"
      ],
      "metadata": {
        "id": "LDO9IqSpI9a-"
      }
    },
    {
      "cell_type": "code",
      "source": [
        "np.random.seed(30)\n",
        "#helps to generate the same set of random numbers each time"
      ],
      "metadata": {
        "id": "JIEMePVTJGcw"
      },
      "execution_count": null,
      "outputs": []
    },
    {
      "cell_type": "code",
      "source": [
        "import numpy as np\n",
        "import matplotlib.pyplot as plt\n",
        "\n",
        "# Parameters\n",
        "# The mean decides the modes while the std decides the spread of the data points\n",
        "num_scores = 200  # Total number of test scores\n",
        "mean1, std1 = 40, 5   # First mode\n",
        "mean2, std2 = 75, 5   # Second mode\n",
        "\n",
        "# Generate two normal distributions\n",
        "scores1 = np.random.normal(loc=mean1, scale=std1, size=num_scores // 2)\n",
        "scores2 = np.random.normal(loc=mean2, scale=std2, size=num_scores // 2)\n",
        "\n",
        "# Combine both distributions\n",
        "bimodal_scores = np.concatenate([scores1, scores2])\n",
        "\n",
        "# Clip to range 0-100\n",
        "bimodal_scores = np.clip(bimodal_scores, 0, 100)\n",
        "\n",
        "# Optionally convert to integers\n",
        "bimodal_scores = bimodal_scores.astype(int)\n",
        "\n",
        "# Print a preview\n",
        "print(\"Sample Bimodal Test Scores:\")\n",
        "print(bimodal_scores[:20])\n",
        "\n",
        "# Plotting the histogram\n",
        "plt.figure(figsize=(10, 6))\n",
        "plt.hist(bimodal_scores, bins=20, color='skyblue', edgecolor='black')\n",
        "plt.title(\"Bimodal Distribution of Test Scores (Modes: 40 & 75)\")\n",
        "plt.xlabel(\"Score\")\n",
        "plt.ylabel(\"Frequency\")\n",
        "plt.grid(True)\n",
        "plt.axvline(40, color='red', linestyle='dashed', linewidth=1, label='Mode 1 (~40)')\n",
        "plt.axvline(75, color='green', linestyle='dashed', linewidth=1, label='Mode 2 (~75)')\n",
        "plt.legend()\n",
        "plt.show()"
      ],
      "metadata": {
        "colab": {
          "base_uri": "https://localhost:8080/",
          "height": 599
        },
        "id": "roFfEoA7eGle",
        "outputId": "03cebc4a-9e38-4794-dedb-f14f6e01349c"
      },
      "execution_count": null,
      "outputs": [
        {
          "output_type": "stream",
          "name": "stdout",
          "text": [
            "Sample Bimodal Test Scores:\n",
            "[33 47 35 42 39 41 31 47 40 34 47 40 36 36 46 43 38 42 29 44]\n"
          ]
        },
        {
          "output_type": "display_data",
          "data": {
            "text/plain": [
              "<Figure size 1000x600 with 1 Axes>"
            ],
            "image/png": "[encoded data removed]"
          },
          "metadata": {}
        }
      ]
    },
    {
      "cell_type": "markdown",
      "source": [
        "**Challenge:**\n",
        "\n",
        "\n",
        "*   Create a prompt to generate a set of 100 product prices in the range of  USD 5 to USD 10.\n",
        "*   Data should be normally distributed.\n",
        "*   Values should have two decimal places.\n",
        "*   Create a visualization to display the distribution.\n",
        "\n",
        "\n",
        "\n",
        "\n"
      ],
      "metadata": {
        "id": "T-GO9eb7cHcp"
      }
    },
    {
      "cell_type": "code",
      "source": [
        "# Parameters\n",
        "num_prices = 100\n",
        "mean_price = 7.5      # Midpoint between $5 and $10\n",
        "std_dev_price = 1      # Standard deviation (adjust for spread)\n",
        "\n",
        "# Generate normally distributed prices\n",
        "prices = np.random.normal(loc=mean_price, scale=std_dev_price, size=num_prices)\n",
        "\n",
        "# Clip prices to stay within $5 and $10\n",
        "prices = np.clip(prices, 5.00, 10.00)\n",
        "\n",
        "# Round to 2 decimal places\n",
        "prices = np.round(prices, 2)\n",
        "\n",
        "# Preview\n",
        "print(\"Sample Product Prices (USD):\")\n",
        "print(prices[:10])\n",
        "\n",
        "# Plot the distribution\n",
        "plt.figure(figsize=(8, 5))\n",
        "plt.hist(prices, bins=10, edgecolor='black', color='lightgreen')\n",
        "plt.title(\"Distribution of Product Prices (USD $5–$10)\")\n",
        "plt.xlabel(\"Price (USD)\")\n",
        "plt.ylabel(\"Frequency\")\n",
        "plt.grid(True)\n",
        "plt.show()"
      ],
      "metadata": {
        "colab": {
          "base_uri": "https://localhost:8080/",
          "height": 524
        },
        "id": "g6FlX-cxc9s1",
        "outputId": "e708b3f4-40fc-4e38-c82a-a7a323958682"
      },
      "execution_count": null,
      "outputs": [
        {
          "output_type": "stream",
          "name": "stdout",
          "text": [
            "Sample Product Prices (USD):\n",
            "[7.19 6.93 5.96 7.65 6.2  6.29 8.68 7.96 5.72 7.23]\n"
          ]
        },
        {
          "output_type": "display_data",
          "data": {
            "text/plain": [
              "<Figure size 800x500 with 1 Axes>"
            ],
            "image/png": "[encoded data removed]"
          },
          "metadata": {}
        }
      ]
    },
    {
      "cell_type": "markdown",
      "source": [
        "\n",
        "\n",
        "---\n",
        "\n"
      ],
      "metadata": {
        "id": "THo1m66LIKdt"
      }
    }
  ]
}